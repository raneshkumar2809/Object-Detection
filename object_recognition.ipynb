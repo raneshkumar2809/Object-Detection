{
 "cells": [
  {
   "cell_type": "markdown",
   "id": "38eb4a7a-8f16-4803-bb60-45f11fa4b6e8",
   "metadata": {},
   "source": [
    "# Importing Libraries"
   ]
  },
  {
   "cell_type": "code",
   "execution_count": null,
   "id": "8b86144e-cebc-4b62-bb1e-30cb56b8a009",
   "metadata": {},
   "outputs": [],
   "source": [
    "import os\n",
    "import numpy as np\n",
    "import pandas as pd\n",
    "from PIL import Image\n",
    "import matplotlib.pyplot as plt\n",
    "import matplotlib.image as mpimg\n",
    "from sklearn.model_selection import train_test_split"
   ]
  },
  {
   "cell_type": "markdown",
   "id": "8f0c991a-84e5-49ef-9410-314a128fd548",
   "metadata": {},
   "source": [
    "# Data Preprocessing"
   ]
  },
  {
   "cell_type": "code",
   "execution_count": null,
   "id": "c4b34bf5-f7a7-4083-9862-247dc8ae56b4",
   "metadata": {},
   "outputs": [],
   "source": [
    "filenames = os.listdir('dataset/images')"
   ]
  },
  {
   "cell_type": "code",
   "execution_count": null,
   "id": "d634e209-d0f2-434c-9dfb-099ab52fa8ec",
   "metadata": {},
   "outputs": [],
   "source": [
    "print(filenames[0:5])"
   ]
  },
  {
   "cell_type": "code",
   "execution_count": null,
   "id": "a43041ec-657f-4671-884a-33651d7a770e",
   "metadata": {},
   "outputs": [],
   "source": [
    "labels_df = pd.read_csv('dataset/dataset_labels.csv')"
   ]
  },
  {
   "cell_type": "code",
   "execution_count": null,
   "id": "04c1a823-c6db-4535-be74-b8719569422e",
   "metadata": {},
   "outputs": [],
   "source": [
    "labels_df.shape"
   ]
  },
  {
   "cell_type": "code",
   "execution_count": null,
   "id": "b70677af-1b81-47aa-8e00-ae7be2a2a6d2",
   "metadata": {},
   "outputs": [],
   "source": [
    "labels_df.head()"
   ]
  },
  {
   "cell_type": "code",
   "execution_count": null,
   "id": "85115996-6e18-485c-a369-43068a2db11e",
   "metadata": {},
   "outputs": [],
   "source": [
    "labels_df['label'].value_counts()"
   ]
  },
  {
   "cell_type": "code",
   "execution_count": null,
   "id": "c9e5c179-5c73-43b9-a909-ed7d48286854",
   "metadata": {},
   "outputs": [],
   "source": [
    "# encoding labels\n",
    "\n",
    "labels_dictionary = {'airplane':0, 'automobile':1, 'bird':2, 'cat':3, 'deer':4, 'dog':5, 'frog':6, 'horse':7, 'ship':8, 'truck':9}\n",
    "labels = [labels_dictionary[i] for i in labels_df['label']]"
   ]
  },
  {
   "cell_type": "code",
   "execution_count": null,
   "id": "2a1b5956-79fa-4bc0-8453-d7634e41f449",
   "metadata": {},
   "outputs": [],
   "source": [
    "print(labels[0:5])"
   ]
  },
  {
   "cell_type": "code",
   "execution_count": null,
   "id": "72a2a2d3-a7d7-4e1b-8498-5dac76fcf616",
   "metadata": {},
   "outputs": [],
   "source": [
    "id_list = list(labels_df['id'])"
   ]
  },
  {
   "cell_type": "code",
   "execution_count": null,
   "id": "bde86128-d2aa-43fd-ba17-e34c3da63f9f",
   "metadata": {},
   "outputs": [],
   "source": [
    "print(id_list[0:5])"
   ]
  },
  {
   "cell_type": "code",
   "execution_count": null,
   "id": "3887fd6b-b09e-4332-9883-8e01cb77dccd",
   "metadata": {},
   "outputs": [],
   "source": [
    "# converting image into numpy array\n",
    "\n",
    "path = 'dataset/images/'\n",
    "data = []\n",
    "for id in id_list:\n",
    "    image = Image.open(path + str(id) + '.png')\n",
    "    image = np.array(image)\n",
    "    data.append(image)"
   ]
  },
  {
   "cell_type": "code",
   "execution_count": null,
   "id": "38b3a879-7a0a-4c8e-9047-cad2789af614",
   "metadata": {},
   "outputs": [],
   "source": [
    "# converting image list and label list into numpy array\n",
    "\n",
    "X = np.array(data)\n",
    "y = np.array(labels)"
   ]
  },
  {
   "cell_type": "code",
   "execution_count": null,
   "id": "67ca7d68-66ee-4288-ad7f-9bc152726e71",
   "metadata": {},
   "outputs": [],
   "source": [
    "print(X.shape)\n",
    "print(y.shape)"
   ]
  },
  {
   "cell_type": "code",
   "execution_count": null,
   "id": "dce9e838-24f2-4352-98b5-5bff313458e0",
   "metadata": {},
   "outputs": [],
   "source": [
    "X_train, X_test, y_train, y_test = train_test_split(X, y, test_size = 0.2, random_state = 42)"
   ]
  },
  {
   "cell_type": "code",
   "execution_count": null,
   "id": "019ede23-1390-4d48-a604-0edede9cdf4e",
   "metadata": {},
   "outputs": [],
   "source": [
    "print(X_train.shape, y_train.shape)"
   ]
  },
  {
   "cell_type": "code",
   "execution_count": null,
   "id": "abd50ad0-ffaf-4bd1-9a59-2088199bf68a",
   "metadata": {},
   "outputs": [],
   "source": [
    "# feature scalling\n",
    "X_train = X_train / 255\n",
    "X_test = X_test / 255"
   ]
  },
  {
   "cell_type": "code",
   "execution_count": null,
   "id": "189dffe6-9ae7-4fcd-911d-0cd27b686e9e",
   "metadata": {},
   "outputs": [],
   "source": [
    "X_train"
   ]
  },
  {
   "cell_type": "markdown",
   "id": "499c8d81-50bb-40f9-b615-4efff22d2bd5",
   "metadata": {},
   "source": [
    "# Training Neural Network"
   ]
  },
  {
   "cell_type": "code",
   "execution_count": null,
   "id": "0c30c31f-eac2-46ec-9488-eae14f1d2b8a",
   "metadata": {},
   "outputs": [],
   "source": [
    "!pip install tensorflow-gpu"
   ]
  },
  {
   "cell_type": "code",
   "execution_count": null,
   "id": "099d923d-a80b-447f-bb1a-b1ce299fec26",
   "metadata": {},
   "outputs": [],
   "source": [
    "from tensorflow.keras import Sequential, models, layers\n",
    "from tensorflow.keras.layers import Dense, Dropout, Flatten\n",
    "from tensorflow.keras.layers import BatchNormalization\n",
    "from tensorflow.keras.models import load_model, Model\n",
    "from tensorflow.keras.applications.resnet50 import ResNet50\n",
    "from tensorflow.keras import optimizers"
   ]
  },
  {
   "cell_type": "code",
   "execution_count": null,
   "id": "af5bba8b-630f-4356-92f7-ed0cd4cf37a7",
   "metadata": {},
   "outputs": [],
   "source": [
    "convolutional_base = ResNet50(weights = 'imagenet', include_top = False, input_shape = (256,256,3))\n",
    "convolutional_base.summary()"
   ]
  },
  {
   "cell_type": "code",
   "execution_count": null,
   "id": "43fe2efc-2adf-40d8-8fd6-addf169986ca",
   "metadata": {},
   "outputs": [],
   "source": [
    "num_classes = 10\n",
    "model = models.Sequential()\n",
    "model.add(layers.UpSampling2D((2,2)))\n",
    "model.add(layers.UpSampling2D((2,2)))\n",
    "model.add(layers.UpSampling2D((2,2)))\n",
    "model.add(convolutional_base)\n",
    "model.add(layers.Flatten())\n",
    "model.add(BatchNormalization())\n",
    "model.add(Dense(128, activation='relu'))\n",
    "model.add(Dropout(0.5))\n",
    "model.add(BatchNormalization())\n",
    "model.add(Dense(64, activation='relu'))\n",
    "model.add(Dropout(0.5))\n",
    "model.add(BatchNormalization())\n",
    "model.add(Dense(num_classes, activation='softmax'))"
   ]
  },
  {
   "cell_type": "code",
   "execution_count": null,
   "id": "50534901-8338-4dc4-a9fe-ad5f74faae78",
   "metadata": {},
   "outputs": [],
   "source": [
    "model.compile(optimizer=optimizers.Adam(), loss='sparse_categorical_crossentropy', metrics=['acc'])"
   ]
  },
  {
   "cell_type": "code",
   "execution_count": null,
   "id": "006e6cfc-9e17-449f-ba21-e13766c59fd8",
   "metadata": {},
   "outputs": [],
   "source": [
    "history = model.fit(X_train, y_train, validation_split=0.1, epochs=1)"
   ]
  },
  {
   "cell_type": "code",
   "execution_count": null,
   "id": "0591d290-5fe8-45b9-b8e2-87490de891ba",
   "metadata": {},
   "outputs": [],
   "source": [
    "loss, accuracy = model.evaluate(X_test, y_test)\n",
    "print('Test Accuarcy = ', accuracy)"
   ]
  },
  {
   "cell_type": "code",
   "execution_count": null,
   "id": "7600531b-a46d-426d-af88-ae34ac9fff6d",
   "metadata": {},
   "outputs": [],
   "source": [
    "# plot the loss value\n",
    "plt.plot(history.history['loss'], label='train loss')\n",
    "plt.plot(history.history['val_loss'], label='validation loss')\n",
    "plt.legend()\n",
    "plt.show()\n",
    "\n",
    "# plot the accuracy value\n",
    "plt.plot(history.history['acc'], label='train accuracy')\n",
    "plt.plot(history.history['val_acc'], label='validation accuracy')\n",
    "plt.legend()\n",
    "plt.show()"
   ]
  },
  {
   "cell_type": "code",
   "execution_count": null,
   "id": "a8ff66bb-c8a8-44c0-ace1-ca230e2603e9",
   "metadata": {},
   "outputs": [],
   "source": []
  }
 ],
 "metadata": {
  "kernelspec": {
   "display_name": "Python 3 (ipykernel)",
   "language": "python",
   "name": "python3"
  },
  "language_info": {
   "codemirror_mode": {
    "name": "ipython",
    "version": 3
   },
   "file_extension": ".py",
   "mimetype": "text/x-python",
   "name": "python",
   "nbconvert_exporter": "python",
   "pygments_lexer": "ipython3",
   "version": "3.12.1"
  }
 },
 "nbformat": 4,
 "nbformat_minor": 5
}
